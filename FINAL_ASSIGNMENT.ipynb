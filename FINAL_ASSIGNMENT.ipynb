{
  "nbformat": 4,
  "nbformat_minor": 0,
  "metadata": {
    "colab": {
      "name": "FINAL ASSIGNMENT.ipynb",
      "provenance": [],
      "authorship_tag": "ABX9TyN25RhzKv1/ujYRxP0J9uQF",
      "include_colab_link": true
    },
    "kernelspec": {
      "name": "python3",
      "display_name": "Python 3"
    },
    "language_info": {
      "name": "python"
    }
  },
  "cells": [
    {
      "cell_type": "markdown",
      "metadata": {
        "id": "view-in-github",
        "colab_type": "text"
      },
      "source": [
        "<a href=\"https://colab.research.google.com/github/EZzz112/1223/blob/main/FINAL_ASSIGNMENT.ipynb\" target=\"_parent\"><img src=\"https://colab.research.google.com/assets/colab-badge.svg\" alt=\"Open In Colab\"/></a>"
      ]
    },
    {
      "cell_type": "code",
      "metadata": {
        "id": "fe1LrhNfYxL9"
      },
      "source": [
        "import pandas as pd\n",
        "import matplotlib.pyplot as plt\n",
        "from pylab import mpl\n",
        "import seaborn as sns\n",
        "import re"
      ],
      "execution_count": 44,
      "outputs": []
    },
    {
      "cell_type": "code",
      "metadata": {
        "colab": {
          "base_uri": "https://localhost:8080/",
          "height": 419
        },
        "id": "Mf_pwAcbdCpL",
        "outputId": "18517bd4-45c2-4004-90ec-e0236fc0236c"
      },
      "source": [
        "df = pd.read_csv('/content/去掉无用.csv')\n",
        "df = df.drop(columns=['1'])\n",
        "df"
      ],
      "execution_count": 47,
      "outputs": [
        {
          "output_type": "execute_result",
          "data": {
            "text/html": [
              "<div>\n",
              "<style scoped>\n",
              "    .dataframe tbody tr th:only-of-type {\n",
              "        vertical-align: middle;\n",
              "    }\n",
              "\n",
              "    .dataframe tbody tr th {\n",
              "        vertical-align: top;\n",
              "    }\n",
              "\n",
              "    .dataframe thead th {\n",
              "        text-align: right;\n",
              "    }\n",
              "</style>\n",
              "<table border=\"1\" class=\"dataframe\">\n",
              "  <thead>\n",
              "    <tr style=\"text-align: right;\">\n",
              "      <th></th>\n",
              "      <th>neighbourhood_cleansed</th>\n",
              "      <th>neighbourhood_group_cleansed</th>\n",
              "      <th>property_type</th>\n",
              "      <th>accommodates</th>\n",
              "      <th>bedrooms</th>\n",
              "      <th>price</th>\n",
              "      <th>minimum_nights</th>\n",
              "      <th>maximum_nights</th>\n",
              "    </tr>\n",
              "  </thead>\n",
              "  <tbody>\n",
              "    <tr>\n",
              "      <th>0</th>\n",
              "      <td>Midtown</td>\n",
              "      <td>Manhattan</td>\n",
              "      <td>Entire apartment</td>\n",
              "      <td>2</td>\n",
              "      <td>NaN</td>\n",
              "      <td>100.0</td>\n",
              "      <td>30</td>\n",
              "      <td>1125</td>\n",
              "    </tr>\n",
              "    <tr>\n",
              "      <th>1</th>\n",
              "      <td>Clinton Hill</td>\n",
              "      <td>Brooklyn</td>\n",
              "      <td>Entire guest suite</td>\n",
              "      <td>3</td>\n",
              "      <td>1.0</td>\n",
              "      <td>73.0</td>\n",
              "      <td>1</td>\n",
              "      <td>730</td>\n",
              "    </tr>\n",
              "    <tr>\n",
              "      <th>2</th>\n",
              "      <td>Bedford-Stuyvesant</td>\n",
              "      <td>Brooklyn</td>\n",
              "      <td>Private room in apartment</td>\n",
              "      <td>2</td>\n",
              "      <td>1.0</td>\n",
              "      <td>60.0</td>\n",
              "      <td>30</td>\n",
              "      <td>730</td>\n",
              "    </tr>\n",
              "    <tr>\n",
              "      <th>3</th>\n",
              "      <td>Midtown</td>\n",
              "      <td>Manhattan</td>\n",
              "      <td>Private room in apartment</td>\n",
              "      <td>2</td>\n",
              "      <td>1.0</td>\n",
              "      <td>79.0</td>\n",
              "      <td>2</td>\n",
              "      <td>14</td>\n",
              "    </tr>\n",
              "    <tr>\n",
              "      <th>4</th>\n",
              "      <td>Upper West Side</td>\n",
              "      <td>Manhattan</td>\n",
              "      <td>Private room in apartment</td>\n",
              "      <td>1</td>\n",
              "      <td>1.0</td>\n",
              "      <td>75.0</td>\n",
              "      <td>2</td>\n",
              "      <td>14</td>\n",
              "    </tr>\n",
              "    <tr>\n",
              "      <th>...</th>\n",
              "      <td>...</td>\n",
              "      <td>...</td>\n",
              "      <td>...</td>\n",
              "      <td>...</td>\n",
              "      <td>...</td>\n",
              "      <td>...</td>\n",
              "      <td>...</td>\n",
              "      <td>...</td>\n",
              "    </tr>\n",
              "    <tr>\n",
              "      <th>37007</th>\n",
              "      <td>Woodside</td>\n",
              "      <td>Queens</td>\n",
              "      <td>Entire apartment</td>\n",
              "      <td>3</td>\n",
              "      <td>1.0</td>\n",
              "      <td>90.0</td>\n",
              "      <td>3</td>\n",
              "      <td>1125</td>\n",
              "    </tr>\n",
              "    <tr>\n",
              "      <th>37008</th>\n",
              "      <td>Norwood</td>\n",
              "      <td>Bronx</td>\n",
              "      <td>Private room in apartment</td>\n",
              "      <td>1</td>\n",
              "      <td>1.0</td>\n",
              "      <td>520.0</td>\n",
              "      <td>1</td>\n",
              "      <td>365</td>\n",
              "    </tr>\n",
              "    <tr>\n",
              "      <th>37009</th>\n",
              "      <td>Midtown</td>\n",
              "      <td>Manhattan</td>\n",
              "      <td>Private room in apartment</td>\n",
              "      <td>1</td>\n",
              "      <td>1.0</td>\n",
              "      <td>63.0</td>\n",
              "      <td>30</td>\n",
              "      <td>90</td>\n",
              "    </tr>\n",
              "    <tr>\n",
              "      <th>37010</th>\n",
              "      <td>Upper East Side</td>\n",
              "      <td>Manhattan</td>\n",
              "      <td>Private room in apartment</td>\n",
              "      <td>1</td>\n",
              "      <td>1.0</td>\n",
              "      <td>67.0</td>\n",
              "      <td>30</td>\n",
              "      <td>90</td>\n",
              "    </tr>\n",
              "    <tr>\n",
              "      <th>37011</th>\n",
              "      <td>Upper West Side</td>\n",
              "      <td>Manhattan</td>\n",
              "      <td>Private room in apartment</td>\n",
              "      <td>1</td>\n",
              "      <td>1.0</td>\n",
              "      <td>66.0</td>\n",
              "      <td>30</td>\n",
              "      <td>90</td>\n",
              "    </tr>\n",
              "  </tbody>\n",
              "</table>\n",
              "<p>37012 rows × 8 columns</p>\n",
              "</div>"
            ],
            "text/plain": [
              "      neighbourhood_cleansed  ... maximum_nights\n",
              "0                    Midtown  ...           1125\n",
              "1               Clinton Hill  ...            730\n",
              "2         Bedford-Stuyvesant  ...            730\n",
              "3                    Midtown  ...             14\n",
              "4            Upper West Side  ...             14\n",
              "...                      ...  ...            ...\n",
              "37007               Woodside  ...           1125\n",
              "37008                Norwood  ...            365\n",
              "37009                Midtown  ...             90\n",
              "37010        Upper East Side  ...             90\n",
              "37011        Upper West Side  ...             90\n",
              "\n",
              "[37012 rows x 8 columns]"
            ]
          },
          "metadata": {
            "tags": []
          },
          "execution_count": 47
        }
      ]
    },
    {
      "cell_type": "code",
      "metadata": {
        "colab": {
          "base_uri": "https://localhost:8080/",
          "height": 552
        },
        "id": "3ZAJzkTUdR0d",
        "outputId": "cf0a7387-29bf-496e-a30e-a23eb75d6fbf"
      },
      "source": [
        "df.info()\n",
        "\n",
        "df.describe()"
      ],
      "execution_count": 48,
      "outputs": [
        {
          "output_type": "stream",
          "text": [
            "<class 'pandas.core.frame.DataFrame'>\n",
            "RangeIndex: 37012 entries, 0 to 37011\n",
            "Data columns (total 8 columns):\n",
            " #   Column                        Non-Null Count  Dtype  \n",
            "---  ------                        --------------  -----  \n",
            " 0   neighbourhood_cleansed        37012 non-null  object \n",
            " 1   neighbourhood_group_cleansed  37012 non-null  object \n",
            " 2   property_type                 37012 non-null  object \n",
            " 3   accommodates                  37012 non-null  int64  \n",
            " 4   bedrooms                      33404 non-null  float64\n",
            " 5   price                         37012 non-null  float64\n",
            " 6   minimum_nights                37012 non-null  int64  \n",
            " 7   maximum_nights                37012 non-null  int64  \n",
            "dtypes: float64(2), int64(3), object(3)\n",
            "memory usage: 2.3+ MB\n"
          ],
          "name": "stdout"
        },
        {
          "output_type": "execute_result",
          "data": {
            "text/html": [
              "<div>\n",
              "<style scoped>\n",
              "    .dataframe tbody tr th:only-of-type {\n",
              "        vertical-align: middle;\n",
              "    }\n",
              "\n",
              "    .dataframe tbody tr th {\n",
              "        vertical-align: top;\n",
              "    }\n",
              "\n",
              "    .dataframe thead th {\n",
              "        text-align: right;\n",
              "    }\n",
              "</style>\n",
              "<table border=\"1\" class=\"dataframe\">\n",
              "  <thead>\n",
              "    <tr style=\"text-align: right;\">\n",
              "      <th></th>\n",
              "      <th>accommodates</th>\n",
              "      <th>bedrooms</th>\n",
              "      <th>price</th>\n",
              "      <th>minimum_nights</th>\n",
              "      <th>maximum_nights</th>\n",
              "    </tr>\n",
              "  </thead>\n",
              "  <tbody>\n",
              "    <tr>\n",
              "      <th>count</th>\n",
              "      <td>37012.000000</td>\n",
              "      <td>33404.000000</td>\n",
              "      <td>37012.000000</td>\n",
              "      <td>37012.000000</td>\n",
              "      <td>3.701200e+04</td>\n",
              "    </tr>\n",
              "    <tr>\n",
              "      <th>mean</th>\n",
              "      <td>2.797633</td>\n",
              "      <td>1.316399</td>\n",
              "      <td>142.842240</td>\n",
              "      <td>23.323679</td>\n",
              "      <td>5.979924e+04</td>\n",
              "    </tr>\n",
              "    <tr>\n",
              "      <th>std</th>\n",
              "      <td>1.845570</td>\n",
              "      <td>0.722094</td>\n",
              "      <td>275.740987</td>\n",
              "      <td>26.441255</td>\n",
              "      <td>1.116338e+07</td>\n",
              "    </tr>\n",
              "    <tr>\n",
              "      <th>min</th>\n",
              "      <td>0.000000</td>\n",
              "      <td>1.000000</td>\n",
              "      <td>0.000000</td>\n",
              "      <td>1.000000</td>\n",
              "      <td>1.000000e+00</td>\n",
              "    </tr>\n",
              "    <tr>\n",
              "      <th>25%</th>\n",
              "      <td>2.000000</td>\n",
              "      <td>1.000000</td>\n",
              "      <td>60.000000</td>\n",
              "      <td>4.000000</td>\n",
              "      <td>9.000000e+01</td>\n",
              "    </tr>\n",
              "    <tr>\n",
              "      <th>50%</th>\n",
              "      <td>2.000000</td>\n",
              "      <td>1.000000</td>\n",
              "      <td>99.000000</td>\n",
              "      <td>30.000000</td>\n",
              "      <td>1.125000e+03</td>\n",
              "    </tr>\n",
              "    <tr>\n",
              "      <th>75%</th>\n",
              "      <td>4.000000</td>\n",
              "      <td>1.000000</td>\n",
              "      <td>151.000000</td>\n",
              "      <td>30.000000</td>\n",
              "      <td>1.125000e+03</td>\n",
              "    </tr>\n",
              "    <tr>\n",
              "      <th>max</th>\n",
              "      <td>16.000000</td>\n",
              "      <td>21.000000</td>\n",
              "      <td>10000.000000</td>\n",
              "      <td>1250.000000</td>\n",
              "      <td>2.147484e+09</td>\n",
              "    </tr>\n",
              "  </tbody>\n",
              "</table>\n",
              "</div>"
            ],
            "text/plain": [
              "       accommodates      bedrooms         price  minimum_nights  maximum_nights\n",
              "count  37012.000000  33404.000000  37012.000000    37012.000000    3.701200e+04\n",
              "mean       2.797633      1.316399    142.842240       23.323679    5.979924e+04\n",
              "std        1.845570      0.722094    275.740987       26.441255    1.116338e+07\n",
              "min        0.000000      1.000000      0.000000        1.000000    1.000000e+00\n",
              "25%        2.000000      1.000000     60.000000        4.000000    9.000000e+01\n",
              "50%        2.000000      1.000000     99.000000       30.000000    1.125000e+03\n",
              "75%        4.000000      1.000000    151.000000       30.000000    1.125000e+03\n",
              "max       16.000000     21.000000  10000.000000     1250.000000    2.147484e+09"
            ]
          },
          "metadata": {
            "tags": []
          },
          "execution_count": 48
        }
      ]
    },
    {
      "cell_type": "code",
      "metadata": {
        "colab": {
          "base_uri": "https://localhost:8080/",
          "height": 296
        },
        "id": "y0iM8LjIhdvQ",
        "outputId": "e2850dae-31ec-4a11-c354-41f0b4369e61"
      },
      "source": [
        "df_house_count = df.groupby('neighbourhood_group_cleansed')['price'].count().sort_values(ascending=False).to_frame().reset_index()\n",
        "df_house_mean = df.groupby('neighbourhood_group_cleansed')['price'].mean().sort_values(ascending=False).to_frame().reset_index()\n",
        "sns.barplot(x='neighbourhood_group_cleansed', y='price', palette=\"Blues_d\", data=df_house_mean)\n",
        "plt.ylabel(\"Price\")\n",
        "plt.xlabel(\"Region\")\n"
      ],
      "execution_count": 59,
      "outputs": [
        {
          "output_type": "execute_result",
          "data": {
            "text/plain": [
              "Text(0.5, 0, 'Region')"
            ]
          },
          "metadata": {
            "tags": []
          },
          "execution_count": 59
        },
        {
          "output_type": "display_data",
          "data": {
            "image/png": "[encoded data removed]",
            "text/plain": [
              "<Figure size 432x288 with 1 Axes>"
            ]
          },
          "metadata": {
            "tags": [],
            "needs_background": "light"
          }
        }
      ]
    },
    {
      "cell_type": "code",
      "metadata": {
        "colab": {
          "base_uri": "https://localhost:8080/",
          "height": 296
        },
        "id": "IQpH5W7ArY1d",
        "outputId": "aa9b7a47-c75d-4213-a749-ad0eec8f5911"
      },
      "source": [
        "sns.barplot(x='neighbourhood_group_cleansed', y='price', palette=\"Greens_d\", data=df_house_count)\n",
        "plt.ylabel(\"Count\")\n",
        "plt.xlabel(\"Region\")"
      ],
      "execution_count": 58,
      "outputs": [
        {
          "output_type": "execute_result",
          "data": {
            "text/plain": [
              "Text(0.5, 0, 'Region')"
            ]
          },
          "metadata": {
            "tags": []
          },
          "execution_count": 58
        },
        {
          "output_type": "display_data",
          "data": {
            "image/png": "[encoded data removed]",
            "text/plain": [
              "<Figure size 432x288 with 1 Axes>"
            ]
          },
          "metadata": {
            "tags": [],
            "needs_background": "light"
          }
        }
      ]
    },
    {
      "cell_type": "code",
      "metadata": {
        "colab": {
          "base_uri": "https://localhost:8080/",
          "height": 388
        },
        "id": "CvJ9MBF6sg9l",
        "outputId": "ba86cdca-b61e-4bdc-c452-3139aa9beaf3"
      },
      "source": [
        "f, [ax1,ax2] = plt.subplots(1, 2, figsize=(15, 5))\n",
        "sns.distplot(df['accommodates'], bins=20, ax=ax1, color='r')\n",
        "sns.kdeplot(df['accommodates'], shade=True, ax=ax1)\n",
        "sns.regplot(x='accommodates', y='price', data=df, ax=ax2)\n",
        "plt.show()"
      ],
      "execution_count": 66,
      "outputs": [
        {
          "output_type": "stream",
          "text": [
            "/usr/local/lib/python3.7/dist-packages/seaborn/distributions.py:2557: FutureWarning: `distplot` is a deprecated function and will be removed in a future version. Please adapt your code to use either `displot` (a figure-level function with similar flexibility) or `histplot` (an axes-level function for histograms).\n",
            "  warnings.warn(msg, FutureWarning)\n"
          ],
          "name": "stderr"
        },
        {
          "output_type": "display_data",
          "data": {
            "image/png": "[encoded data removed]",
            "text/plain": [
              "<Figure size 1080x360 with 2 Axes>"
            ]
          },
          "metadata": {
            "tags": [],
            "needs_background": "light"
          }
        }
      ]
    },
    {
      "cell_type": "code",
      "metadata": {
        "id": "_Phsa3SywL3K"
      },
      "source": [
        "f, ax1= plt.subplots(figsize=(20,5))\n",
        "sns.countplot(x='neighbourhood_group_cleansed\t', data=df, ax=ax1)\n",
        "ax1.set_title('\tneighbourhood_cleansed',fontsize=15)\n",
        "ax1.set_xlabel('数量')\n",
        "ax1.set_ylabel('户型')\n",
        "plt.show()"
      ],
      "execution_count": null,
      "outputs": []
    }
  ]
}